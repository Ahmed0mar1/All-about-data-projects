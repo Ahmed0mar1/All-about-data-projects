{
    "metadata": {
        "kernelspec": {
            "name": "SQL",
            "display_name": "SQL",
            "language": "sql"
        },
        "language_info": {
            "name": "sql",
            "version": ""
        }
    },
    "nbformat_minor": 2,
    "nbformat": 4,
    "cells": [
        {
            "cell_type": "markdown",
            "source": [
                "# _Data Cleaning in SQL_"
            ],
            "metadata": {
                "azdata_cell_guid": "3aa9b552-d202-4728-ac1b-1dad83601bd1"
            },
            "attachments": {}
        },
        {
            "cell_type": "markdown",
            "source": [
                "## \n",
                "\n",
                "- **<u>_Standardize Date Format_</u>**"
            ],
            "metadata": {
                "azdata_cell_guid": "d6ec7f09-1bef-4012-860f-08708e2a6cbf"
            },
            "attachments": {}
        },
        {
            "cell_type": "code",
            "source": [
                "SELECT SalesDateConverted\r\n",
                "from [Nashville Housing]\r\n",
                "\r\n",
                "ALTER TABLE [Nashville Housing]\r\n",
                "add SalesDateConverted Date;\r\n",
                "\r\n",
                "UPDATE [Nashville Housing]\r\n",
                "SET SalesDateConverted=CONVERT(date,SaleDate)"
            ],
            "metadata": {
                "azdata_cell_guid": "a454a4c4-e9b3-4ff8-80e8-8404194ff4b9",
                "language": "sql",
                "tags": []
            },
            "outputs": [],
            "execution_count": null
        },
        {
            "cell_type": "markdown",
            "source": [
                "  \n",
                "\n",
                "- _**<u>Populate Property Address data</u>**_\\_"
            ],
            "metadata": {
                "azdata_cell_guid": "20d3e8a8-5f30-4dad-81b4-f0cb862da489"
            },
            "attachments": {}
        },
        {
            "cell_type": "code",
            "source": [
                "SELECT a.ParcelID, a.PropertyAddress, b.ParcelID, b.PropertyAddress, ISNULL(a.PropertyAddress,b.PropertyAddress)\r\n",
                "from [Nashville Housing]a\r\n",
                "JOIN [Nashville Housing]b\r\n",
                "    on a.ParcelID=b.ParcelID\r\n",
                "    and a.[UniqueID ]<>b.[UniqueID ]\r\n",
                "where a.PropertyAddress is NULL\r\n",
                "\r\n",
                "UPDATE a\r\n",
                "set propertyaddress = ISNULL(a.PropertyAddress,b.PropertyAddress)\r\n",
                "from [Nashville Housing]a\r\n",
                "JOIN [Nashville Housing]b\r\n",
                "    on a.ParcelID=b.ParcelID\r\n",
                "    and a.[UniqueID ]<>b.[UniqueID ]\r\n",
                "where a.PropertyAddress is NULL\r\n",
                ""
            ],
            "metadata": {
                "azdata_cell_guid": "8a43b51e-21bb-4c8d-baa9-0ad0978a052c",
                "language": "sql",
                "tags": [
                    "hide_input"
                ]
            },
            "outputs": [],
            "execution_count": null
        },
        {
            "cell_type": "markdown",
            "source": [
                "- **_<u>Breaking out Address into Individual Columns (Address, City, State)</u>_**\n",
                "\n",
                "1. First way"
            ],
            "metadata": {
                "azdata_cell_guid": "667420ad-41d7-45e7-af68-3b24380df8be"
            },
            "attachments": {}
        },
        {
            "cell_type": "code",
            "source": [
                "select PropertyAddress\r\n",
                "from [Nashville Housing]\r\n",
                "\r\n",
                "SELECT\r\n",
                "SUBSTRING(PropertyAddress,1, CHARINDEX(',', PropertyAddress)-1) as Adress1,\r\n",
                "    SUBSTRING(PropertyAddress,CHARINDEX(',', PropertyAddress)+1, LEN(PropertyAddress)) as Adress2\r\n",
                "\r\n",
                "from [Nashville Housing]\r\n",
                "\r\n",
                "ALTER TABLE [Nashville Housing]\r\n",
                "add PropertyAddress1 nvarchar(255) ;\r\n",
                "\r\n",
                "UPDATE [Nashville Housing]\r\n",
                "SET PropertyAddress1 = SUBSTRING(PropertyAddress,1, CHARINDEX(',', PropertyAddress)-1) \r\n",
                "\r\n",
                "\r\n",
                "\r\n",
                "ALTER TABLE [Nashville Housing]\r\n",
                "add PropertyAddress2 nvarchar(255) ;\r\n",
                "\r\n",
                "UPDATE [Nashville Housing]\r\n",
                "SET PropertyAddress2 =    SUBSTRING(PropertyAddress,CHARINDEX(',', PropertyAddress)+1, LEN(PropertyAddress))\r\n",
                "\r\n",
                "SELECT *\r\n",
                "from [Nashville Housing]\r\n",
                ""
            ],
            "metadata": {
                "azdata_cell_guid": "a2cbb505-5883-4034-85f2-8df4c935335e",
                "language": "sql",
                "tags": [
                    "hide_input"
                ]
            },
            "outputs": [],
            "execution_count": null
        },
        {
            "cell_type": "markdown",
            "source": [
                "### \n",
                "\n",
                "1. Other way"
            ],
            "metadata": {
                "azdata_cell_guid": "1ce31e24-1839-4e15-b78a-652535f0e3c2"
            },
            "attachments": {}
        },
        {
            "cell_type": "code",
            "source": [
                "select OwnerAddress\r\n",
                "from [Nashville Housing]\r\n",
                "--replace comma with period\r\n",
                "SELECT OwnerAddress,\r\n",
                "PARSENAME(replace  (OwnerAddress,',','.'),1) as state,\r\n",
                "PARSENAME(replace  (OwnerAddress,',','.'),2) as city,\r\n",
                "PARSENAME(replace  (OwnerAddress,',','.'),3) as adress\r\n",
                "\r\n",
                "from [Nashville Housing]\r\n",
                "\r\n",
                "ALTER TABLE [Nashville Housing]\r\n",
                "add OwnerAddressState nvarchar(255) ;\r\n",
                "\r\n",
                "UPDATE [Nashville Housing]\r\n",
                "SET OwnerAddressState = PARSENAME(replace  (OwnerAddress,',','.'),1) \r\n",
                "\r\n",
                "\r\n",
                "\r\n",
                "ALTER TABLE [Nashville Housing]\r\n",
                "add OwnerAddressCity nvarchar(255) ;\r\n",
                "\r\n",
                "UPDATE [Nashville Housing]\r\n",
                "SET OwnerAddressCity =    PARSENAME(replace  (OwnerAddress,',','.'),2)\r\n",
                "\r\n",
                "\r\n",
                "ALTER TABLE [Nashville Housing]\r\n",
                "add OwnerAddresss nvarchar(255) ;\r\n",
                "\r\n",
                "UPDATE [Nashville Housing]\r\n",
                "SET OwnerAddresss =    PARSENAME(replace  (OwnerAddress,',','.'),3)\r\n",
                "\r\n",
                "SELECT OwnerAddressCity,OwnerAddressState,OwnerAddresss\r\n",
                "from [Nashville Housing]\r\n",
                ""
            ],
            "metadata": {
                "azdata_cell_guid": "26fa8345-31a6-4414-b436-66cb675f4de8",
                "language": "sql",
                "tags": [
                    "hide_input"
                ]
            },
            "outputs": [],
            "execution_count": null
        },
        {
            "cell_type": "markdown",
            "source": [
                "## \n",
                "\n",
                "- **_<u>Change Y and N to Yes and No in \"Sold as Vacant\" field</u>_**"
            ],
            "metadata": {
                "azdata_cell_guid": "cb2f8abf-6393-4045-96d0-f85ce018705a"
            },
            "attachments": {}
        },
        {
            "cell_type": "code",
            "source": [
                "select DISTINCT(SoldAsVacant ), COUNT (SoldAsVacant)\r\n",
                "FROM [Nashville Housing]\r\n",
                "GROUP BY SoldAsVacant\r\n",
                "order by 2\r\n",
                "\r\n",
                "SELECT SoldAsVacant ,\r\n",
                "    case when SoldAsVacant = 'Y' then 'Yes'\r\n",
                "         when SoldAsVacant = 'N' then 'No'\r\n",
                "         else SoldAsVacant\r\n",
                "         END \r\n",
                "FROM [Nashville Housing]\r\n",
                "\r\n",
                "UPDATE [Nashville Housing] \r\n",
                "SET SoldAsVacant= case when SoldAsVacant = 'Y' then 'Yes'\r\n",
                "                       when SoldAsVacant = 'N' then 'No'\r\n",
                "                       else SoldAsVacant\r\n",
                "                       END "
            ],
            "metadata": {
                "azdata_cell_guid": "546e4e34-445e-4b8f-9ecb-d377652cbbba",
                "language": "sql",
                "tags": [
                    "hide_input"
                ]
            },
            "outputs": [],
            "execution_count": null
        },
        {
            "cell_type": "markdown",
            "source": [
                "- **_<u>Remove Duplicates</u>_**"
            ],
            "metadata": {
                "azdata_cell_guid": "5c23275d-6ea6-49bf-8ed3-81ba2b834847"
            },
            "attachments": {}
        },
        {
            "cell_type": "code",
            "source": [
                "with row_numcte as(\r\n",
                "SELECT*,\r\n",
                "    ROW_NUMBER() OVER(\r\n",
                "        PARTITION BY ParcelID,\r\n",
                "                     PropertyAddress,\r\n",
                "                     SalePrice,\r\n",
                "                     SaleDate,\r\n",
                "                     LegalReference\r\n",
                "                     order by \r\n",
                "                        UniqueID \r\n",
                "    ) row_num\r\n",
                "FROM [Nashville Housing]\r\n",
                "--ORDER BY ParcelID\r\n",
                "\r\n",
                ")\r\n",
                "delete \r\n",
                "from row_numcte\r\n",
                "where row_num > 1"
            ],
            "metadata": {
                "azdata_cell_guid": "30762ae0-98fd-46af-9afc-4d0bcc5bafc4",
                "language": "sql"
            },
            "outputs": [],
            "execution_count": null
        },
        {
            "cell_type": "markdown",
            "source": [
                "- **_<u>Delete Unused Columns</u>_**"
            ],
            "metadata": {
                "azdata_cell_guid": "121a7959-f052-42bf-a425-0fb852b7f531"
            },
            "attachments": {}
        },
        {
            "cell_type": "code",
            "source": [
                ""
            ],
            "metadata": {
                "azdata_cell_guid": "089eb1c3-3118-4d4a-b63a-eced5ce8bbbf",
                "language": "sql"
            },
            "outputs": [],
            "execution_count": null
        }
    ]
}